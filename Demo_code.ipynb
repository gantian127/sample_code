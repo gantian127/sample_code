{
 "cells": [
  {
   "cell_type": "markdown",
   "metadata": {},
   "source": [
    "## Demo of reproducible modeling research "
   ]
  },
  {
   "cell_type": "markdown",
   "metadata": {},
   "source": [
    "### 1. Load Sciunit Object from HydroShare"
   ]
  },
  {
   "cell_type": "code",
   "execution_count": null,
   "metadata": {},
   "outputs": [],
   "source": [
    "import os, hs_restclient\n",
    "\n",
    "hs=hs_restclient.HydroShare()\n",
    "\n",
    "# download Demo Sciunit Object\n",
    "hs.getResourceFile('e149ec6beaf14c77a7765c8e795eaede', 'use_case.zip', destination=os.getcwd())"
   ]
  },
  {
   "cell_type": "markdown",
   "metadata": {},
   "source": [
    "### 2. Repeat runoff modeling using Sciunit Object "
   ]
  },
  {
   "cell_type": "code",
   "execution_count": null,
   "metadata": {},
   "outputs": [],
   "source": [
    "!sciunit open use_case.zip"
   ]
  },
  {
   "cell_type": "code",
   "execution_count": null,
   "metadata": {},
   "outputs": [],
   "source": [
    "!sciunit list"
   ]
  },
  {
   "cell_type": "code",
   "execution_count": null,
   "metadata": {},
   "outputs": [],
   "source": [
    "!sciunit repeat e1"
   ]
  },
  {
   "cell_type": "code",
   "execution_count": null,
   "metadata": {},
   "outputs": [],
   "source": [
    "!sciunit repeat e2"
   ]
  },
  {
   "cell_type": "markdown",
   "metadata": {},
   "source": [
    "### 3. Data analysis for discharge result"
   ]
  },
  {
   "cell_type": "code",
   "execution_count": null,
   "metadata": {},
   "outputs": [],
   "source": [
    "import pandas as pd\n",
    "\n",
    "# user setting\n",
    "sim_file = r'DOLC2_discharge_outlet.ts'  # output from SAC-SMA model\n",
    "obs_file = r'observation.QME'  # observation data\n",
    "\n",
    "start_time = '2011-12-01'\n",
    "end_time = '2012-09-30'\n",
    "\n",
    "# get observation data\n",
    "obs = pd.read_csv(obs_file, skiprows=3, header=None, names=['obs'])\n",
    "obs.index = pd.to_datetime(obs.index, format='%Y-%m-%d %H:%M:%S')\n",
    "obs['obs'] = obs['obs'].apply(lambda x: x*0.0283168)  # units conversion as cms\n",
    "obs = obs[(obs.index >= start_time) & (obs.index <= end_time)]\n",
    "\n",
    "# get simulation data\n",
    "raw_sim = pd.read_csv(sim_file, skiprows=121, header=None, names=['raw'])\n",
    "sim_data = raw_sim['raw'].str.split('\\s+', expand=True)\n",
    "sim_data.rename(columns={3: 'sim'}, inplace=True)\n",
    "sim_data['sim'] = sim_data['sim'].astype(float)\n",
    "sim_data[[2]] = sim_data[[2]].apply(lambda x: x.replace('24', '23'))\n",
    "sim_data['time'] = sim_data[[1, 2]].apply(lambda x: ''.join(x), axis=1)\n",
    "sim_data['time'] = pd.to_datetime(sim_data['time'], format='%d%m%y%H')\n",
    "sim_data.drop([0, 1, 2], axis=1, inplace=True)\n",
    "sim = sim_data.set_index('time').groupby(pd.Grouper(freq='D'))['sim'].mean()\n",
    "sim = sim[(sim.index >= start_time) & (sim.index <= end_time)]\n",
    "\n",
    "# calculate evaluation metrics\n",
    "DF = pd.concat([sim, obs], axis=1, join_axes=[sim.index])\n",
    "rmse = round(((DF.sim - DF.obs)**2).mean()**0.5, 2)\n",
    "nse = round((1 - ((DF.sim-DF.obs)**2).sum() / ((DF.obs - DF.obs.mean())**2).sum()), 2)\n",
    "bias = round((DF.sim - DF.obs).mean(), 2)\n",
    "\n",
    "print('rmse = {}cms \\nnse = {} \\nbias = {}cms'.format(rmse, nse, bias))\n",
    "\n",
    "# make time series plot\n",
    "ax = DF.plot(title='Time series of observation vs simulation for Dolores River watershed',\n",
    "             figsize=(13, 6))\n",
    "ax.set_ylabel('discharge (cms)')\n",
    "fig = ax.get_figure()\n",
    "fig.savefig('discharge.png', dpi=300)"
   ]
  }
 ],
 "metadata": {
  "kernelspec": {
   "display_name": "Python 2.7",
   "language": "python",
   "name": "python2"
  },
  "language_info": {
   "codemirror_mode": {
    "name": "ipython",
    "version": 2.0
   },
   "file_extension": ".py",
   "mimetype": "text/x-python",
   "name": "python",
   "nbconvert_exporter": "python",
   "pygments_lexer": "ipython2",
   "version": "2.7.15"
  }
 },
 "nbformat": 4,
 "nbformat_minor": 0
}